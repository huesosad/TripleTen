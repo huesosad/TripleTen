{
 "cells": [
  {
   "cell_type": "code",
   "execution_count": 1,
   "id": "bea23af0",
   "metadata": {},
   "outputs": [
    {
     "name": "stderr",
     "output_type": "stream",
     "text": [
      "c:\\ProgramData\\anaconda3\\envs\\tripleenv\\lib\\site-packages\\sklearn\\utils\\fixes.py:28: UserWarning: pkg_resources is deprecated as an API. See https://setuptools.pypa.io/en/latest/pkg_resources.html. The pkg_resources package is slated for removal as early as 2025-11-30. Refrain from using this package or pin to Setuptools<81.\n",
      "  from pkg_resources import parse_version  # type: ignore\n"
     ]
    }
   ],
   "source": [
    "import pandas as pd\n",
    "import numpy as np\n",
    "import time\n",
    "import datetime as dt\n",
    "\n",
    "from sklearn.preprocessing import OrdinalEncoder\n",
    "from sklearn.preprocessing import StandardScaler\n",
    "from sklearn.linear_model import LinearRegression\n",
    "from sklearn.ensemble import RandomForestRegressor\n",
    "\n",
    "from sklearn.model_selection import GridSearchCV\n",
    "\n",
    "from lightgbm import LGBMRegressor\n",
    "from catboost import CatBoostRegressor\n",
    "\n",
    "from sklearn.model_selection import train_test_split\n",
    "from sklearn.metrics import mean_squared_error\n"
   ]
  },
  {
   "cell_type": "code",
   "execution_count": 2,
   "id": "9985ed1e",
   "metadata": {},
   "outputs": [
    {
     "name": "stdout",
     "output_type": "stream",
     "text": [
      "<class 'pandas.core.frame.DataFrame'>\n",
      "RangeIndex: 354369 entries, 0 to 354368\n",
      "Data columns (total 16 columns):\n",
      " #   Column             Non-Null Count   Dtype \n",
      "---  ------             --------------   ----- \n",
      " 0   DateCrawled        354369 non-null  object\n",
      " 1   Price              354369 non-null  int64 \n",
      " 2   VehicleType        316879 non-null  object\n",
      " 3   RegistrationYear   354369 non-null  int64 \n",
      " 4   Gearbox            334536 non-null  object\n",
      " 5   Power              354369 non-null  int64 \n",
      " 6   Model              334664 non-null  object\n",
      " 7   Mileage            354369 non-null  int64 \n",
      " 8   RegistrationMonth  354369 non-null  int64 \n",
      " 9   FuelType           321474 non-null  object\n",
      " 10  Brand              354369 non-null  object\n",
      " 11  NotRepaired        283215 non-null  object\n",
      " 12  DateCreated        354369 non-null  object\n",
      " 13  NumberOfPictures   354369 non-null  int64 \n",
      " 14  PostalCode         354369 non-null  int64 \n",
      " 15  LastSeen           354369 non-null  object\n",
      "dtypes: int64(7), object(9)\n",
      "memory usage: 43.3+ MB\n"
     ]
    },
    {
     "data": {
      "text/html": [
       "<div>\n",
       "<style scoped>\n",
       "    .dataframe tbody tr th:only-of-type {\n",
       "        vertical-align: middle;\n",
       "    }\n",
       "\n",
       "    .dataframe tbody tr th {\n",
       "        vertical-align: top;\n",
       "    }\n",
       "\n",
       "    .dataframe thead th {\n",
       "        text-align: right;\n",
       "    }\n",
       "</style>\n",
       "<table border=\"1\" class=\"dataframe\">\n",
       "  <thead>\n",
       "    <tr style=\"text-align: right;\">\n",
       "      <th></th>\n",
       "      <th>Price</th>\n",
       "      <th>RegistrationYear</th>\n",
       "      <th>Power</th>\n",
       "      <th>Mileage</th>\n",
       "      <th>RegistrationMonth</th>\n",
       "      <th>NumberOfPictures</th>\n",
       "      <th>PostalCode</th>\n",
       "    </tr>\n",
       "  </thead>\n",
       "  <tbody>\n",
       "    <tr>\n",
       "      <th>count</th>\n",
       "      <td>354369.000000</td>\n",
       "      <td>354369.000000</td>\n",
       "      <td>354369.000000</td>\n",
       "      <td>354369.000000</td>\n",
       "      <td>354369.000000</td>\n",
       "      <td>354369.0</td>\n",
       "      <td>354369.000000</td>\n",
       "    </tr>\n",
       "    <tr>\n",
       "      <th>mean</th>\n",
       "      <td>4416.656776</td>\n",
       "      <td>2004.234448</td>\n",
       "      <td>110.094337</td>\n",
       "      <td>128211.172535</td>\n",
       "      <td>5.714645</td>\n",
       "      <td>0.0</td>\n",
       "      <td>50508.689087</td>\n",
       "    </tr>\n",
       "    <tr>\n",
       "      <th>std</th>\n",
       "      <td>4514.158514</td>\n",
       "      <td>90.227958</td>\n",
       "      <td>189.850405</td>\n",
       "      <td>37905.341530</td>\n",
       "      <td>3.726421</td>\n",
       "      <td>0.0</td>\n",
       "      <td>25783.096248</td>\n",
       "    </tr>\n",
       "    <tr>\n",
       "      <th>min</th>\n",
       "      <td>0.000000</td>\n",
       "      <td>1000.000000</td>\n",
       "      <td>0.000000</td>\n",
       "      <td>5000.000000</td>\n",
       "      <td>0.000000</td>\n",
       "      <td>0.0</td>\n",
       "      <td>1067.000000</td>\n",
       "    </tr>\n",
       "    <tr>\n",
       "      <th>25%</th>\n",
       "      <td>1050.000000</td>\n",
       "      <td>1999.000000</td>\n",
       "      <td>69.000000</td>\n",
       "      <td>125000.000000</td>\n",
       "      <td>3.000000</td>\n",
       "      <td>0.0</td>\n",
       "      <td>30165.000000</td>\n",
       "    </tr>\n",
       "    <tr>\n",
       "      <th>50%</th>\n",
       "      <td>2700.000000</td>\n",
       "      <td>2003.000000</td>\n",
       "      <td>105.000000</td>\n",
       "      <td>150000.000000</td>\n",
       "      <td>6.000000</td>\n",
       "      <td>0.0</td>\n",
       "      <td>49413.000000</td>\n",
       "    </tr>\n",
       "    <tr>\n",
       "      <th>75%</th>\n",
       "      <td>6400.000000</td>\n",
       "      <td>2008.000000</td>\n",
       "      <td>143.000000</td>\n",
       "      <td>150000.000000</td>\n",
       "      <td>9.000000</td>\n",
       "      <td>0.0</td>\n",
       "      <td>71083.000000</td>\n",
       "    </tr>\n",
       "    <tr>\n",
       "      <th>max</th>\n",
       "      <td>20000.000000</td>\n",
       "      <td>9999.000000</td>\n",
       "      <td>20000.000000</td>\n",
       "      <td>150000.000000</td>\n",
       "      <td>12.000000</td>\n",
       "      <td>0.0</td>\n",
       "      <td>99998.000000</td>\n",
       "    </tr>\n",
       "  </tbody>\n",
       "</table>\n",
       "</div>"
      ],
      "text/plain": [
       "               Price  RegistrationYear          Power        Mileage  \\\n",
       "count  354369.000000     354369.000000  354369.000000  354369.000000   \n",
       "mean     4416.656776       2004.234448     110.094337  128211.172535   \n",
       "std      4514.158514         90.227958     189.850405   37905.341530   \n",
       "min         0.000000       1000.000000       0.000000    5000.000000   \n",
       "25%      1050.000000       1999.000000      69.000000  125000.000000   \n",
       "50%      2700.000000       2003.000000     105.000000  150000.000000   \n",
       "75%      6400.000000       2008.000000     143.000000  150000.000000   \n",
       "max     20000.000000       9999.000000   20000.000000  150000.000000   \n",
       "\n",
       "       RegistrationMonth  NumberOfPictures     PostalCode  \n",
       "count      354369.000000          354369.0  354369.000000  \n",
       "mean            5.714645               0.0   50508.689087  \n",
       "std             3.726421               0.0   25783.096248  \n",
       "min             0.000000               0.0    1067.000000  \n",
       "25%             3.000000               0.0   30165.000000  \n",
       "50%             6.000000               0.0   49413.000000  \n",
       "75%             9.000000               0.0   71083.000000  \n",
       "max            12.000000               0.0   99998.000000  "
      ]
     },
     "execution_count": 2,
     "metadata": {},
     "output_type": "execute_result"
    }
   ],
   "source": [
    "df = pd.read_csv('C:/Users/hueso/Nextcloud/Personal_L/Tripleten/Course/Sprint_14/File/car_data.csv')\n",
    "df.info()\n",
    "df.describe()"
   ]
  },
  {
   "cell_type": "code",
   "execution_count": 3,
   "id": "4456ea4b",
   "metadata": {},
   "outputs": [
    {
     "data": {
      "text/html": [
       "<div>\n",
       "<style scoped>\n",
       "    .dataframe tbody tr th:only-of-type {\n",
       "        vertical-align: middle;\n",
       "    }\n",
       "\n",
       "    .dataframe tbody tr th {\n",
       "        vertical-align: top;\n",
       "    }\n",
       "\n",
       "    .dataframe thead th {\n",
       "        text-align: right;\n",
       "    }\n",
       "</style>\n",
       "<table border=\"1\" class=\"dataframe\">\n",
       "  <thead>\n",
       "    <tr style=\"text-align: right;\">\n",
       "      <th></th>\n",
       "      <th>DateCrawled</th>\n",
       "      <th>Price</th>\n",
       "      <th>VehicleType</th>\n",
       "      <th>RegistrationYear</th>\n",
       "      <th>Gearbox</th>\n",
       "      <th>Power</th>\n",
       "      <th>Model</th>\n",
       "      <th>Mileage</th>\n",
       "      <th>RegistrationMonth</th>\n",
       "      <th>FuelType</th>\n",
       "      <th>Brand</th>\n",
       "      <th>NotRepaired</th>\n",
       "      <th>DateCreated</th>\n",
       "      <th>NumberOfPictures</th>\n",
       "      <th>PostalCode</th>\n",
       "      <th>LastSeen</th>\n",
       "    </tr>\n",
       "  </thead>\n",
       "  <tbody>\n",
       "    <tr>\n",
       "      <th>90300</th>\n",
       "      <td>04/04/2016 23:56</td>\n",
       "      <td>16500</td>\n",
       "      <td>convertible</td>\n",
       "      <td>2006</td>\n",
       "      <td>auto</td>\n",
       "      <td>163</td>\n",
       "      <td>slk</td>\n",
       "      <td>60000</td>\n",
       "      <td>11</td>\n",
       "      <td>petrol</td>\n",
       "      <td>mercedes_benz</td>\n",
       "      <td>no</td>\n",
       "      <td>04/04/2016 00:00</td>\n",
       "      <td>0</td>\n",
       "      <td>39114</td>\n",
       "      <td>07/04/2016 09:16</td>\n",
       "    </tr>\n",
       "    <tr>\n",
       "      <th>345473</th>\n",
       "      <td>05/04/2016 11:45</td>\n",
       "      <td>1850</td>\n",
       "      <td>sedan</td>\n",
       "      <td>2003</td>\n",
       "      <td>auto</td>\n",
       "      <td>144</td>\n",
       "      <td>other</td>\n",
       "      <td>150000</td>\n",
       "      <td>2</td>\n",
       "      <td>lpg</td>\n",
       "      <td>opel</td>\n",
       "      <td>no</td>\n",
       "      <td>05/04/2016 00:00</td>\n",
       "      <td>0</td>\n",
       "      <td>40472</td>\n",
       "      <td>05/04/2016 11:45</td>\n",
       "    </tr>\n",
       "    <tr>\n",
       "      <th>284783</th>\n",
       "      <td>29/03/2016 18:58</td>\n",
       "      <td>1000</td>\n",
       "      <td>sedan</td>\n",
       "      <td>1996</td>\n",
       "      <td>manual</td>\n",
       "      <td>136</td>\n",
       "      <td>vectra</td>\n",
       "      <td>125000</td>\n",
       "      <td>6</td>\n",
       "      <td>petrol</td>\n",
       "      <td>opel</td>\n",
       "      <td>no</td>\n",
       "      <td>29/03/2016 00:00</td>\n",
       "      <td>0</td>\n",
       "      <td>63450</td>\n",
       "      <td>06/04/2016 04:46</td>\n",
       "    </tr>\n",
       "    <tr>\n",
       "      <th>107923</th>\n",
       "      <td>11/03/2016 13:25</td>\n",
       "      <td>3250</td>\n",
       "      <td>small</td>\n",
       "      <td>2005</td>\n",
       "      <td>manual</td>\n",
       "      <td>69</td>\n",
       "      <td>fiesta</td>\n",
       "      <td>80000</td>\n",
       "      <td>10</td>\n",
       "      <td>petrol</td>\n",
       "      <td>ford</td>\n",
       "      <td>no</td>\n",
       "      <td>11/03/2016 00:00</td>\n",
       "      <td>0</td>\n",
       "      <td>56470</td>\n",
       "      <td>26/03/2016 10:44</td>\n",
       "    </tr>\n",
       "    <tr>\n",
       "      <th>97177</th>\n",
       "      <td>02/04/2016 18:53</td>\n",
       "      <td>650</td>\n",
       "      <td>sedan</td>\n",
       "      <td>1996</td>\n",
       "      <td>manual</td>\n",
       "      <td>90</td>\n",
       "      <td>golf</td>\n",
       "      <td>150000</td>\n",
       "      <td>6</td>\n",
       "      <td>gasoline</td>\n",
       "      <td>volkswagen</td>\n",
       "      <td>no</td>\n",
       "      <td>02/04/2016 00:00</td>\n",
       "      <td>0</td>\n",
       "      <td>38820</td>\n",
       "      <td>06/04/2016 19:44</td>\n",
       "    </tr>\n",
       "  </tbody>\n",
       "</table>\n",
       "</div>"
      ],
      "text/plain": [
       "             DateCrawled  Price  VehicleType  RegistrationYear Gearbox  Power  \\\n",
       "90300   04/04/2016 23:56  16500  convertible              2006    auto    163   \n",
       "345473  05/04/2016 11:45   1850        sedan              2003    auto    144   \n",
       "284783  29/03/2016 18:58   1000        sedan              1996  manual    136   \n",
       "107923  11/03/2016 13:25   3250        small              2005  manual     69   \n",
       "97177   02/04/2016 18:53    650        sedan              1996  manual     90   \n",
       "\n",
       "         Model  Mileage  RegistrationMonth  FuelType          Brand  \\\n",
       "90300      slk    60000                 11    petrol  mercedes_benz   \n",
       "345473   other   150000                  2       lpg           opel   \n",
       "284783  vectra   125000                  6    petrol           opel   \n",
       "107923  fiesta    80000                 10    petrol           ford   \n",
       "97177     golf   150000                  6  gasoline     volkswagen   \n",
       "\n",
       "       NotRepaired       DateCreated  NumberOfPictures  PostalCode  \\\n",
       "90300           no  04/04/2016 00:00                 0       39114   \n",
       "345473          no  05/04/2016 00:00                 0       40472   \n",
       "284783          no  29/03/2016 00:00                 0       63450   \n",
       "107923          no  11/03/2016 00:00                 0       56470   \n",
       "97177           no  02/04/2016 00:00                 0       38820   \n",
       "\n",
       "                LastSeen  \n",
       "90300   07/04/2016 09:16  \n",
       "345473  05/04/2016 11:45  \n",
       "284783  06/04/2016 04:46  \n",
       "107923  26/03/2016 10:44  \n",
       "97177   06/04/2016 19:44  "
      ]
     },
     "execution_count": 3,
     "metadata": {},
     "output_type": "execute_result"
    }
   ],
   "source": [
    "df.sample(5)"
   ]
  },
  {
   "cell_type": "markdown",
   "id": "4b79f1a7",
   "metadata": {},
   "source": [
    "### Preparación de datos"
   ]
  },
  {
   "cell_type": "markdown",
   "id": "07a991a0",
   "metadata": {},
   "source": [
    "Viendo los datos como están ahorita procederé a eliminar duplicados, cambiar a tipo de datos correcto, verificar que caracteristicas son relevantes y revisar si es pertinente remover NaNs o modificar esos datos."
   ]
  },
  {
   "cell_type": "code",
   "execution_count": 4,
   "id": "55b3076f",
   "metadata": {},
   "outputs": [
    {
     "data": {
      "text/plain": [
       "262"
      ]
     },
     "execution_count": 4,
     "metadata": {},
     "output_type": "execute_result"
    }
   ],
   "source": [
    "df.duplicated().sum()"
   ]
  },
  {
   "cell_type": "code",
   "execution_count": 5,
   "id": "7823dd34",
   "metadata": {},
   "outputs": [
    {
     "data": {
      "text/plain": [
       "0"
      ]
     },
     "execution_count": 5,
     "metadata": {},
     "output_type": "execute_result"
    }
   ],
   "source": [
    "df.drop_duplicates(inplace=True)\n",
    "df.duplicated().sum()"
   ]
  },
  {
   "cell_type": "code",
   "execution_count": 6,
   "id": "08e1162c",
   "metadata": {},
   "outputs": [
    {
     "data": {
      "text/plain": [
       "VehicleType\n",
       "sedan          91399\n",
       "small          79753\n",
       "wagon          65115\n",
       "bus            28752\n",
       "convertible    20180\n",
       "coupe          16147\n",
       "suv            11991\n",
       "other           3286\n",
       "Name: count, dtype: int64"
      ]
     },
     "execution_count": 6,
     "metadata": {},
     "output_type": "execute_result"
    }
   ],
   "source": [
    "df['VehicleType'].value_counts()"
   ]
  },
  {
   "cell_type": "code",
   "execution_count": 7,
   "id": "9d05d0f3",
   "metadata": {},
   "outputs": [
    {
     "name": "stderr",
     "output_type": "stream",
     "text": [
      "C:\\Users\\hueso\\AppData\\Local\\Temp\\ipykernel_22752\\535524898.py:1: FutureWarning: A value is trying to be set on a copy of a DataFrame or Series through chained assignment using an inplace method.\n",
      "The behavior will change in pandas 3.0. This inplace method will never work because the intermediate object on which we are setting values always behaves as a copy.\n",
      "\n",
      "For example, when doing 'df[col].method(value, inplace=True)', try using 'df.method({col: value}, inplace=True)' or df[col] = df[col].method(value) instead, to perform the operation inplace on the original object.\n",
      "\n",
      "\n",
      "  df['VehicleType'].fillna('other',inplace=True)\n"
     ]
    }
   ],
   "source": [
    "df['VehicleType'].fillna('other',inplace=True)"
   ]
  },
  {
   "cell_type": "code",
   "execution_count": 8,
   "id": "36851dc6",
   "metadata": {},
   "outputs": [
    {
     "data": {
      "text/plain": [
       "0"
      ]
     },
     "execution_count": 8,
     "metadata": {},
     "output_type": "execute_result"
    }
   ],
   "source": [
    "df['VehicleType'].isna().sum()"
   ]
  },
  {
   "cell_type": "markdown",
   "id": "1282c801",
   "metadata": {},
   "source": [
    "En tipo de vehiculo los datos faltantes en ves de quitarlos, pueden ser considerados dentro de la categoria de \"other\" para asi mantener las demás caracteristicas de estas observaciones."
   ]
  },
  {
   "cell_type": "code",
   "execution_count": 9,
   "id": "6d559ded",
   "metadata": {},
   "outputs": [
    {
     "data": {
      "text/plain": [
       "Gearbox\n",
       "manual    268034\n",
       "auto       66243\n",
       "Name: count, dtype: int64"
      ]
     },
     "execution_count": 9,
     "metadata": {},
     "output_type": "execute_result"
    }
   ],
   "source": [
    "df['Gearbox'].value_counts()"
   ]
  },
  {
   "cell_type": "code",
   "execution_count": 10,
   "id": "e184aacb",
   "metadata": {},
   "outputs": [
    {
     "data": {
      "text/plain": [
       "19830"
      ]
     },
     "execution_count": 10,
     "metadata": {},
     "output_type": "execute_result"
    }
   ],
   "source": [
    "df['Gearbox'].isna().sum()"
   ]
  },
  {
   "cell_type": "code",
   "execution_count": null,
   "id": "4087a5a3",
   "metadata": {},
   "outputs": [
    {
     "data": {
      "text/plain": [
       "0"
      ]
     },
     "execution_count": 11,
     "metadata": {},
     "output_type": "execute_result"
    }
   ],
   "source": [
    "df.dropna(subset=['Gearbox'],inplace=True)\n",
    "df['Gearbox'].isna().sum()"
   ]
  },
  {
   "cell_type": "markdown",
   "id": "245934e8",
   "metadata": {},
   "source": [
    "En la caracteristica \"Gearbox\" no puedo determinar si los datos faltantes son de una u otra categoria, asi que decidí eliminarlos."
   ]
  },
  {
   "cell_type": "code",
   "execution_count": 12,
   "id": "9b612554",
   "metadata": {},
   "outputs": [
    {
     "data": {
      "text/plain": [
       "Model\n",
       "golf                  27740\n",
       "other                 23007\n",
       "3er                   19069\n",
       "polo                  12325\n",
       "corsa                 11780\n",
       "                      ...  \n",
       "i3                        7\n",
       "rangerover                4\n",
       "serie_3                   3\n",
       "range_rover_evoque        2\n",
       "serie_1                   1\n",
       "Name: count, Length: 250, dtype: int64"
      ]
     },
     "execution_count": 12,
     "metadata": {},
     "output_type": "execute_result"
    }
   ],
   "source": [
    "df['Model'].value_counts()"
   ]
  },
  {
   "cell_type": "code",
   "execution_count": 13,
   "id": "417903ff",
   "metadata": {},
   "outputs": [
    {
     "data": {
      "text/plain": [
       "0"
      ]
     },
     "execution_count": 13,
     "metadata": {},
     "output_type": "execute_result"
    }
   ],
   "source": [
    "df['Model']=df['Model'].fillna('other')\n",
    "df['Model'].isna().sum()"
   ]
  },
  {
   "cell_type": "markdown",
   "id": "37be7ef3",
   "metadata": {},
   "source": [
    "Los modelos que son NaN pueden catalogarse como \"other\", ya que anteriormente la categoria ya existía."
   ]
  },
  {
   "cell_type": "code",
   "execution_count": 14,
   "id": "fd920e6b",
   "metadata": {},
   "outputs": [
    {
     "data": {
      "text/plain": [
       "RegistrationMonth\n",
       "3     33425\n",
       "6     30429\n",
       "4     28399\n",
       "5     28240\n",
       "0     27580\n",
       "7     26357\n",
       "10    25263\n",
       "12    23554\n",
       "9     23096\n",
       "11    23092\n",
       "1     22297\n",
       "8     21892\n",
       "2     20653\n",
       "Name: count, dtype: int64"
      ]
     },
     "execution_count": 14,
     "metadata": {},
     "output_type": "execute_result"
    }
   ],
   "source": [
    "df['RegistrationMonth'].value_counts()"
   ]
  },
  {
   "cell_type": "code",
   "execution_count": 15,
   "id": "b264f145",
   "metadata": {},
   "outputs": [],
   "source": [
    "df.drop(df[df['RegistrationMonth']==0].index,inplace=True)"
   ]
  },
  {
   "cell_type": "markdown",
   "id": "4af40a29",
   "metadata": {},
   "source": [
    "Eliminé los valores con mes 0 ya que este no existe."
   ]
  },
  {
   "cell_type": "code",
   "execution_count": 16,
   "id": "68fa84e7",
   "metadata": {},
   "outputs": [
    {
     "data": {
      "text/plain": [
       "FuelType\n",
       "petrol      193002\n",
       "gasoline     91008\n",
       "lpg           4807\n",
       "cng            525\n",
       "hybrid         223\n",
       "other          125\n",
       "electric        71\n",
       "Name: count, dtype: int64"
      ]
     },
     "execution_count": 16,
     "metadata": {},
     "output_type": "execute_result"
    }
   ],
   "source": [
    "df['FuelType'].value_counts()"
   ]
  },
  {
   "cell_type": "code",
   "execution_count": 17,
   "id": "d77efece",
   "metadata": {},
   "outputs": [
    {
     "data": {
      "text/plain": [
       "0"
      ]
     },
     "execution_count": 17,
     "metadata": {},
     "output_type": "execute_result"
    }
   ],
   "source": [
    "df['FuelType']=df['FuelType'].fillna('other')\n",
    "df['FuelType'].isna().sum()"
   ]
  },
  {
   "cell_type": "markdown",
   "id": "6e9090e1",
   "metadata": {},
   "source": [
    "Los valores NaN pueden renombrarse a other, ya que anteriormente existía la categoria de \"other\""
   ]
  },
  {
   "cell_type": "code",
   "execution_count": 18,
   "id": "6b78680b",
   "metadata": {},
   "outputs": [
    {
     "data": {
      "text/plain": [
       "NotRepaired\n",
       "no     232151\n",
       "yes     29882\n",
       "Name: count, dtype: int64"
      ]
     },
     "execution_count": 18,
     "metadata": {},
     "output_type": "execute_result"
    }
   ],
   "source": [
    "df['NotRepaired'].value_counts()"
   ]
  },
  {
   "cell_type": "code",
   "execution_count": null,
   "id": "ad462643",
   "metadata": {},
   "outputs": [
    {
     "ename": "KeyError",
     "evalue": "['NotRepaired']",
     "output_type": "error",
     "traceback": [
      "\u001b[1;31m---------------------------------------------------------------------------\u001b[0m",
      "\u001b[1;31mKeyError\u001b[0m                                  Traceback (most recent call last)",
      "\u001b[1;32m~\\AppData\\Local\\Temp\\ipykernel_22752\\264451583.py\u001b[0m in \u001b[0;36m?\u001b[1;34m()\u001b[0m\n\u001b[1;32m----> 1\u001b[1;33m \u001b[0mdf\u001b[0m\u001b[1;33m.\u001b[0m\u001b[0mdropna\u001b[0m\u001b[1;33m(\u001b[0m\u001b[0msubset\u001b[0m\u001b[1;33m=\u001b[0m\u001b[1;34m'NotRepaired'\u001b[0m\u001b[1;33m,\u001b[0m\u001b[0minplace\u001b[0m\u001b[1;33m=\u001b[0m\u001b[1;32mTrue\u001b[0m\u001b[1;33m)\u001b[0m\u001b[1;33m\u001b[0m\u001b[1;33m\u001b[0m\u001b[0m\n\u001b[0m\u001b[0;32m      2\u001b[0m \u001b[0mdf\u001b[0m\u001b[1;33m[\u001b[0m\u001b[1;34m'NotRepaired'\u001b[0m\u001b[1;33m]\u001b[0m\u001b[1;33m.\u001b[0m\u001b[0misna\u001b[0m\u001b[1;33m(\u001b[0m\u001b[1;33m)\u001b[0m\u001b[1;33m.\u001b[0m\u001b[0msum\u001b[0m\u001b[1;33m(\u001b[0m\u001b[1;33m)\u001b[0m\u001b[1;33m\u001b[0m\u001b[1;33m\u001b[0m\u001b[0m\n",
      "\u001b[1;32mc:\\ProgramData\\anaconda3\\envs\\tripleenv\\lib\\site-packages\\pandas\\core\\frame.py\u001b[0m in \u001b[0;36m?\u001b[1;34m(self, axis, how, thresh, subset, inplace, ignore_index)\u001b[0m\n\u001b[0;32m   6666\u001b[0m             \u001b[0max\u001b[0m \u001b[1;33m=\u001b[0m \u001b[0mself\u001b[0m\u001b[1;33m.\u001b[0m\u001b[0m_get_axis\u001b[0m\u001b[1;33m(\u001b[0m\u001b[0magg_axis\u001b[0m\u001b[1;33m)\u001b[0m\u001b[1;33m\u001b[0m\u001b[1;33m\u001b[0m\u001b[0m\n\u001b[0;32m   6667\u001b[0m             \u001b[0mindices\u001b[0m \u001b[1;33m=\u001b[0m \u001b[0max\u001b[0m\u001b[1;33m.\u001b[0m\u001b[0mget_indexer_for\u001b[0m\u001b[1;33m(\u001b[0m\u001b[0msubset\u001b[0m\u001b[1;33m)\u001b[0m\u001b[1;33m\u001b[0m\u001b[1;33m\u001b[0m\u001b[0m\n\u001b[0;32m   6668\u001b[0m             \u001b[0mcheck\u001b[0m \u001b[1;33m=\u001b[0m \u001b[0mindices\u001b[0m \u001b[1;33m==\u001b[0m \u001b[1;33m-\u001b[0m\u001b[1;36m1\u001b[0m\u001b[1;33m\u001b[0m\u001b[1;33m\u001b[0m\u001b[0m\n\u001b[0;32m   6669\u001b[0m             \u001b[1;32mif\u001b[0m \u001b[0mcheck\u001b[0m\u001b[1;33m.\u001b[0m\u001b[0many\u001b[0m\u001b[1;33m(\u001b[0m\u001b[1;33m)\u001b[0m\u001b[1;33m:\u001b[0m\u001b[1;33m\u001b[0m\u001b[1;33m\u001b[0m\u001b[0m\n\u001b[1;32m-> 6670\u001b[1;33m                 \u001b[1;32mraise\u001b[0m \u001b[0mKeyError\u001b[0m\u001b[1;33m(\u001b[0m\u001b[0mnp\u001b[0m\u001b[1;33m.\u001b[0m\u001b[0marray\u001b[0m\u001b[1;33m(\u001b[0m\u001b[0msubset\u001b[0m\u001b[1;33m)\u001b[0m\u001b[1;33m[\u001b[0m\u001b[0mcheck\u001b[0m\u001b[1;33m]\u001b[0m\u001b[1;33m.\u001b[0m\u001b[0mtolist\u001b[0m\u001b[1;33m(\u001b[0m\u001b[1;33m)\u001b[0m\u001b[1;33m)\u001b[0m\u001b[1;33m\u001b[0m\u001b[1;33m\u001b[0m\u001b[0m\n\u001b[0m\u001b[0;32m   6671\u001b[0m             \u001b[0magg_obj\u001b[0m \u001b[1;33m=\u001b[0m \u001b[0mself\u001b[0m\u001b[1;33m.\u001b[0m\u001b[0mtake\u001b[0m\u001b[1;33m(\u001b[0m\u001b[0mindices\u001b[0m\u001b[1;33m,\u001b[0m \u001b[0maxis\u001b[0m\u001b[1;33m=\u001b[0m\u001b[0magg_axis\u001b[0m\u001b[1;33m)\u001b[0m\u001b[1;33m\u001b[0m\u001b[1;33m\u001b[0m\u001b[0m\n\u001b[0;32m   6672\u001b[0m \u001b[1;33m\u001b[0m\u001b[0m\n\u001b[0;32m   6673\u001b[0m         \u001b[1;32mif\u001b[0m \u001b[0mthresh\u001b[0m \u001b[1;32mis\u001b[0m \u001b[1;32mnot\u001b[0m \u001b[0mlib\u001b[0m\u001b[1;33m.\u001b[0m\u001b[0mno_default\u001b[0m\u001b[1;33m:\u001b[0m\u001b[1;33m\u001b[0m\u001b[1;33m\u001b[0m\u001b[0m\n",
      "\u001b[1;31mKeyError\u001b[0m: ['NotRepaired']"
     ]
    }
   ],
   "source": [
    "df.dropna(subset=['NotRepaired'],inplace=True)\n",
    "df['NotRepaired'].isna().sum()"
   ]
  },
  {
   "cell_type": "code",
   "execution_count": 20,
   "id": "55f4589f",
   "metadata": {},
   "outputs": [
    {
     "data": {
      "text/plain": [
       "NumberOfPictures\n",
       "0    262033\n",
       "Name: count, dtype: int64"
      ]
     },
     "execution_count": 20,
     "metadata": {},
     "output_type": "execute_result"
    }
   ],
   "source": [
    "df['NumberOfPictures'].value_counts()"
   ]
  },
  {
   "cell_type": "code",
   "execution_count": 21,
   "id": "f77d338a",
   "metadata": {},
   "outputs": [],
   "source": [
    "df.drop(['DateCrawled'],axis=1,inplace=True)"
   ]
  },
  {
   "cell_type": "markdown",
   "id": "efc78fa7",
   "metadata": {},
   "source": [
    "Eliminé la caracteristica DateCrawled ya que no es relevante al ser solo unas horas despues de DateCreated. "
   ]
  },
  {
   "cell_type": "code",
   "execution_count": 22,
   "id": "9afba697",
   "metadata": {},
   "outputs": [],
   "source": [
    "df.drop(['NumberOfPictures'],axis=1,inplace=True)"
   ]
  },
  {
   "cell_type": "markdown",
   "id": "0776e010",
   "metadata": {},
   "source": [
    "El numero de imagenes es 0 en todas las observaciones. Al ser un dato que no cambia, no nos sirve y nos complicaria los modelos. Mejor lo eliminé.\n",
    "Todos las caracteristicas que son númericas no tienen valores faltantes, por lo que no fue necesario tratar NaNs.\n",
    "Ahora pondré los tipos de dato correctos para cada columna."
   ]
  },
  {
   "cell_type": "code",
   "execution_count": 23,
   "id": "9b220549",
   "metadata": {},
   "outputs": [],
   "source": [
    "df['DateCreated'] = pd.to_datetime(df['DateCreated'], format='%d/%m/%Y %H:%M')\n",
    "df['LastSeen'] = pd.to_datetime(df['LastSeen'], format='%d/%m/%Y %H:%M')"
   ]
  },
  {
   "cell_type": "markdown",
   "id": "f971a1b8",
   "metadata": {},
   "source": [
    "Ahora solo cambiaré las columnas a que tengan el nombre con \"snake_case\" y revisaré como quedaron los datos."
   ]
  },
  {
   "cell_type": "code",
   "execution_count": 24,
   "id": "537fb703",
   "metadata": {},
   "outputs": [
    {
     "name": "stdout",
     "output_type": "stream",
     "text": [
      "<class 'pandas.core.frame.DataFrame'>\n",
      "RangeIndex: 262033 entries, 0 to 262032\n",
      "Data columns (total 14 columns):\n",
      " #   Column              Non-Null Count   Dtype         \n",
      "---  ------              --------------   -----         \n",
      " 0   price               262033 non-null  int64         \n",
      " 1   vehicle_type        262033 non-null  object        \n",
      " 2   registration_year   262033 non-null  int64         \n",
      " 3   gearbox             262033 non-null  object        \n",
      " 4   power               262033 non-null  int64         \n",
      " 5   model               262033 non-null  object        \n",
      " 6   mileage             262033 non-null  int64         \n",
      " 7   registration_month  262033 non-null  int64         \n",
      " 8   fuel_type           262033 non-null  object        \n",
      " 9   brand               262033 non-null  object        \n",
      " 10  not_repaired        262033 non-null  object        \n",
      " 11  date_created        262033 non-null  datetime64[ns]\n",
      " 12  postal_code         262033 non-null  int64         \n",
      " 13  last_seen           262033 non-null  datetime64[ns]\n",
      "dtypes: datetime64[ns](2), int64(6), object(6)\n",
      "memory usage: 28.0+ MB\n"
     ]
    }
   ],
   "source": [
    "df.columns = df.columns.str.replace(r'([a-z0-9])([A-Z])', r'\\1_\\2', regex=True).str.lower()\n",
    "df.reset_index(drop=True,inplace=True)\n",
    "df.info()"
   ]
  },
  {
   "cell_type": "markdown",
   "id": "c9cd6a16",
   "metadata": {},
   "source": [
    "Para poder mejorar los datos a que sean más usables para ML podemos mapear algunos strings y fechas a int."
   ]
  },
  {
   "cell_type": "code",
   "execution_count": 25,
   "id": "215bbd17",
   "metadata": {},
   "outputs": [
    {
     "name": "stdout",
     "output_type": "stream",
     "text": [
      "<class 'pandas.core.frame.DataFrame'>\n",
      "RangeIndex: 262033 entries, 0 to 262032\n",
      "Data columns (total 14 columns):\n",
      " #   Column              Non-Null Count   Dtype \n",
      "---  ------              --------------   ----- \n",
      " 0   price               262033 non-null  int64 \n",
      " 1   vehicle_type        262033 non-null  object\n",
      " 2   registration_year   262033 non-null  int64 \n",
      " 3   gearbox             262033 non-null  object\n",
      " 4   power               262033 non-null  int64 \n",
      " 5   model               262033 non-null  object\n",
      " 6   mileage             262033 non-null  int64 \n",
      " 7   registration_month  262033 non-null  int64 \n",
      " 8   fuel_type           262033 non-null  object\n",
      " 9   brand               262033 non-null  object\n",
      " 10  not_repaired        262033 non-null  int8  \n",
      " 11  date_created        262033 non-null  int64 \n",
      " 12  postal_code         262033 non-null  int64 \n",
      " 13  last_seen           262033 non-null  int64 \n",
      "dtypes: int64(8), int8(1), object(5)\n",
      "memory usage: 26.2+ MB\n"
     ]
    }
   ],
   "source": [
    "df['not_repaired'] = df['not_repaired'].map({\"yes\":1, \"no\":0}).astype('int8')\n",
    "df['date_created']=df['date_created'].map(dt.datetime.toordinal)\n",
    "df['last_seen']=df['last_seen'].map(dt.datetime.toordinal)\n",
    "df.info()"
   ]
  },
  {
   "cell_type": "markdown",
   "id": "571ccc08",
   "metadata": {},
   "source": [
    "Los datos ya están listos para ser usados en ML"
   ]
  },
  {
   "cell_type": "markdown",
   "id": "b3075cae",
   "metadata": {},
   "source": [
    "### Entrenamiento de los modelos"
   ]
  },
  {
   "cell_type": "markdown",
   "id": "6ccbf262",
   "metadata": {},
   "source": [
    "Primero haré una regresión lineal para determinar si los siguientes modelos con busqueda de mejores hiperparametros por medio de GridSearchCV funcionarán mejor que este modelo. De no tener un mejor RMSE algo está mal en el codigo."
   ]
  },
  {
   "cell_type": "markdown",
   "id": "08cadce4",
   "metadata": {},
   "source": [
    "#### Linear Regression (Cordura)"
   ]
  },
  {
   "cell_type": "code",
   "execution_count": 26,
   "id": "f5f9db69",
   "metadata": {},
   "outputs": [],
   "source": [
    "numeric=['registration_year', 'power','mileage','last_seen']\n",
    "df_lr=df.copy()\n",
    "scaler=StandardScaler()\n",
    "scaler.fit(df_lr[numeric])\n",
    "df_lr[numeric]=scaler.transform(df_lr[numeric])"
   ]
  },
  {
   "cell_type": "code",
   "execution_count": 27,
   "id": "aec5da34",
   "metadata": {},
   "outputs": [],
   "source": [
    "#df_lr.info()"
   ]
  },
  {
   "cell_type": "code",
   "execution_count": 28,
   "id": "8660a7f4",
   "metadata": {},
   "outputs": [],
   "source": [
    "features = df_lr.drop('price',axis=1)\n",
    "target = df_lr['price']"
   ]
  },
  {
   "cell_type": "code",
   "execution_count": 29,
   "id": "78e35e75",
   "metadata": {},
   "outputs": [],
   "source": [
    "features_ohe = pd.get_dummies(features,drop_first=True)"
   ]
  },
  {
   "cell_type": "code",
   "execution_count": 30,
   "id": "10e318aa",
   "metadata": {},
   "outputs": [
    {
     "data": {
      "text/html": [
       "<div>\n",
       "<style scoped>\n",
       "    .dataframe tbody tr th:only-of-type {\n",
       "        vertical-align: middle;\n",
       "    }\n",
       "\n",
       "    .dataframe tbody tr th {\n",
       "        vertical-align: top;\n",
       "    }\n",
       "\n",
       "    .dataframe thead th {\n",
       "        text-align: right;\n",
       "    }\n",
       "</style>\n",
       "<table border=\"1\" class=\"dataframe\">\n",
       "  <thead>\n",
       "    <tr style=\"text-align: right;\">\n",
       "      <th></th>\n",
       "      <th>registration_year</th>\n",
       "      <th>power</th>\n",
       "      <th>mileage</th>\n",
       "      <th>registration_month</th>\n",
       "      <th>not_repaired</th>\n",
       "      <th>date_created</th>\n",
       "      <th>postal_code</th>\n",
       "      <th>last_seen</th>\n",
       "      <th>vehicle_type_convertible</th>\n",
       "      <th>vehicle_type_coupe</th>\n",
       "      <th>...</th>\n",
       "      <th>brand_seat</th>\n",
       "      <th>brand_skoda</th>\n",
       "      <th>brand_smart</th>\n",
       "      <th>brand_sonstige_autos</th>\n",
       "      <th>brand_subaru</th>\n",
       "      <th>brand_suzuki</th>\n",
       "      <th>brand_toyota</th>\n",
       "      <th>brand_trabant</th>\n",
       "      <th>brand_volkswagen</th>\n",
       "      <th>brand_volvo</th>\n",
       "    </tr>\n",
       "  </thead>\n",
       "  <tbody>\n",
       "    <tr>\n",
       "      <th>104767</th>\n",
       "      <td>-0.720793</td>\n",
       "      <td>-0.199848</td>\n",
       "      <td>0.609472</td>\n",
       "      <td>4</td>\n",
       "      <td>0</td>\n",
       "      <td>736035</td>\n",
       "      <td>85540</td>\n",
       "      <td>-1.401</td>\n",
       "      <td>False</td>\n",
       "      <td>False</td>\n",
       "      <td>...</td>\n",
       "      <td>False</td>\n",
       "      <td>False</td>\n",
       "      <td>False</td>\n",
       "      <td>False</td>\n",
       "      <td>False</td>\n",
       "      <td>False</td>\n",
       "      <td>False</td>\n",
       "      <td>False</td>\n",
       "      <td>False</td>\n",
       "      <td>False</td>\n",
       "    </tr>\n",
       "  </tbody>\n",
       "</table>\n",
       "<p>1 rows × 309 columns</p>\n",
       "</div>"
      ],
      "text/plain": [
       "        registration_year     power   mileage  registration_month  \\\n",
       "104767          -0.720793 -0.199848  0.609472                   4   \n",
       "\n",
       "        not_repaired  date_created  postal_code  last_seen  \\\n",
       "104767             0        736035        85540     -1.401   \n",
       "\n",
       "        vehicle_type_convertible  vehicle_type_coupe  ...  brand_seat  \\\n",
       "104767                     False               False  ...       False   \n",
       "\n",
       "        brand_skoda  brand_smart  brand_sonstige_autos  brand_subaru  \\\n",
       "104767        False        False                 False         False   \n",
       "\n",
       "        brand_suzuki  brand_toyota  brand_trabant  brand_volkswagen  \\\n",
       "104767         False         False          False             False   \n",
       "\n",
       "        brand_volvo  \n",
       "104767        False  \n",
       "\n",
       "[1 rows x 309 columns]"
      ]
     },
     "execution_count": 30,
     "metadata": {},
     "output_type": "execute_result"
    }
   ],
   "source": [
    "features_ohe.sample()"
   ]
  },
  {
   "cell_type": "code",
   "execution_count": 31,
   "id": "bc9fb18c",
   "metadata": {},
   "outputs": [
    {
     "name": "stdout",
     "output_type": "stream",
     "text": [
      "El Error Cuadratico Medio es: 4274.0319\n",
      "Tiempo de ejecución:\n",
      "CPU times: total: 15 s\n",
      "Wall time: 3.46 s\n"
     ]
    }
   ],
   "source": [
    "%%time\n",
    "\n",
    "features_train, features_test, target_train, target_test = train_test_split(features_ohe, target, test_size=0.25, random_state=123)\n",
    "\n",
    "model = LinearRegression()\n",
    "model.fit(features_train,target_train)\n",
    "target_pred = model.predict(features_test)\n",
    "rmse = mean_squared_error(target_test,target_pred)**0.5\n",
    "print (f\"El Error Cuadratico Medio es: {rmse:.4f}\")\n",
    "print ('Tiempo de ejecución:')"
   ]
  },
  {
   "cell_type": "markdown",
   "id": "71f63dfe",
   "metadata": {},
   "source": [
    "Para conseguir los mejores valores hiperparametricos usaré GridSearchCV en cada uno de los modelos por medio de una función."
   ]
  },
  {
   "cell_type": "code",
   "execution_count": 32,
   "id": "0b5b8890",
   "metadata": {},
   "outputs": [],
   "source": [
    "def gsearch(model,model_name,search_space):\n",
    "\n",
    "    model = model\n",
    "    model_grid = GridSearchCV(model,param_grid=search_space,cv=3,scoring='neg_root_mean_squared_error',verbose=2,n_jobs=-1)\n",
    "\n",
    "    model_grid.fit(features_train,target_train)\n",
    "\n",
    "    best_params = model_grid.best_params_\n",
    "    best_score = model_grid.best_score_\n",
    "    best_grid = model_grid.best_estimator_\n",
    "\n",
    "    predicted_values = best_grid.predict(features_test)\n",
    "\n",
    "    RMSE = mean_squared_error(target_test,predicted_values)**0.5\n",
    "    \n",
    "    print(\"Best Parameters For\", model_name,\":\", best_params )\n",
    "    print(\"These Parameters Produced a Best RMSE Score of\", round(best_score,2), \"on the Training Data\")\n",
    "    print()\n",
    "    print(\"The RMSE Using the Tuned\", model_name, \"on the Validation Set:\", round(RMSE,2))\n",
    "    #print(\"Best grid:\", best_grid )\n",
    "    print()\n",
    "    print('Training Time for', model_name,':')\n",
    "\n"
   ]
  },
  {
   "cell_type": "markdown",
   "id": "b1884be5",
   "metadata": {},
   "source": [
    "#### Random Forest Regressor"
   ]
  },
  {
   "cell_type": "code",
   "execution_count": 44,
   "id": "a297c38e",
   "metadata": {},
   "outputs": [
    {
     "name": "stdout",
     "output_type": "stream",
     "text": [
      "Fitting 3 folds for each of 18 candidates, totalling 54 fits\n"
     ]
    },
    {
     "name": "stderr",
     "output_type": "stream",
     "text": [
      "[Parallel(n_jobs=-1)]: Using backend ThreadingBackend with 20 concurrent workers.\n",
      "[Parallel(n_jobs=-1)]: Done  10 tasks      | elapsed:    7.2s\n",
      "[Parallel(n_jobs=-1)]: Done 100 out of 100 | elapsed:   37.4s finished\n"
     ]
    },
    {
     "name": "stdout",
     "output_type": "stream",
     "text": [
      "Best Parameters For RandomForestRegressor : {'max_depth': 20, 'min_samples_split': 5, 'n_estimators': 100}\n",
      "These Parameters Produced a Best RMSE Score of -1750.14 on the Training Data\n",
      "\n",
      "The RMSE Using the Tuned RandomForestRegressor on the Validation Set: 1705.64\n",
      "\n",
      "Training Time for RandomForestRegressor :\n",
      "CPU times: total: 11min 31s\n",
      "Wall time: 7min 12s\n"
     ]
    },
    {
     "name": "stderr",
     "output_type": "stream",
     "text": [
      "[Parallel(n_jobs=20)]: Using backend ThreadingBackend with 20 concurrent workers.\n",
      "[Parallel(n_jobs=20)]: Done  10 tasks      | elapsed:    0.0s\n",
      "[Parallel(n_jobs=20)]: Done 100 out of 100 | elapsed:    0.0s finished\n"
     ]
    }
   ],
   "source": [
    "%%time\n",
    "df_rf = df.copy()\n",
    "\n",
    "features = df_rf.drop('price',axis=1)\n",
    "target = df_rf['price']\n",
    "\n",
    "features_ohe = pd.get_dummies(features,drop_first=True)\n",
    "\n",
    "features_train, features_test, target_train, target_test = train_test_split(features_ohe, target, test_size=0.25, random_state=123)\n",
    "\n",
    "model = RandomForestRegressor(verbose=1,random_state=123,n_jobs=-1)\n",
    "model_name = 'RandomForestRegressor'\n",
    "search_space = {'n_estimators':[5,10,100], 'max_depth':[5,10,20],'min_samples_split': [5, 10]}\n",
    "\n",
    "gsearch(model,model_name,search_space)"
   ]
  },
  {
   "cell_type": "markdown",
   "id": "3e1a0772",
   "metadata": {},
   "source": [
    "### LightGBM"
   ]
  },
  {
   "cell_type": "code",
   "execution_count": 49,
   "id": "62d9c557",
   "metadata": {},
   "outputs": [],
   "source": [
    "categorical_cols=['vehicle_type','gearbox','model','fuel_type','brand']\n",
    "df_lgbm = df.copy()\n",
    "\n",
    "for col in categorical_cols:\n",
    "    df_lgbm[col] = df_lgbm[col].astype('category')\n",
    "\n",
    "features = df_lgbm.drop('price',axis=1)\n",
    "target = df_lgbm['price']\n",
    "\n",
    "features_train, features_test, target_train, target_test = train_test_split(features, target, test_size=0.25, random_state=123)"
   ]
  },
  {
   "cell_type": "code",
   "execution_count": 46,
   "id": "56677dad",
   "metadata": {},
   "outputs": [
    {
     "name": "stdout",
     "output_type": "stream",
     "text": [
      "Fitting 3 folds for each of 27 candidates, totalling 81 fits\n"
     ]
    },
    {
     "name": "stderr",
     "output_type": "stream",
     "text": [
      "c:\\ProgramData\\anaconda3\\envs\\tripleenv\\lib\\site-packages\\joblib\\externals\\loky\\process_executor.py:782: UserWarning: A worker stopped while some jobs were given to the executor. This can be caused by a too short worker timeout or by a memory leak.\n",
      "  warnings.warn(\n"
     ]
    },
    {
     "name": "stdout",
     "output_type": "stream",
     "text": [
      "[LightGBM] [Info] Auto-choosing row-wise multi-threading, the overhead of testing was 0.002178 seconds.\n",
      "You can set `force_row_wise=true` to remove the overhead.\n",
      "And if memory is not enough, you can set `force_col_wise=true`.\n",
      "[LightGBM] [Info] Total Bins 1038\n",
      "[LightGBM] [Info] Number of data points in the train set: 196524, number of used features: 13\n",
      "[LightGBM] [Info] Start training from score 5061.232221\n",
      "Best Parameters For LightGBMRegressor : {'learning_rate': 0.1, 'max_depth': 10, 'n_estimators': 100}\n",
      "These Parameters Produced a Best RMSE Score of -1718.83 on the Training Data\n",
      "\n",
      "The RMSE Using the Tuned LightGBMRegressor on the Validation Set: 1703.99\n",
      "\n",
      "Training Time for LightGBMRegressor :\n",
      "CPU times: total: 5.25 s\n",
      "Wall time: 11.3 s\n"
     ]
    }
   ],
   "source": [
    "%%time\n",
    "\n",
    "modellgbm = LGBMRegressor(random_state=123)\n",
    "model_name = \"LightGBMRegressor\"\n",
    "search_space = {'n_estimators': [5,10,100], 'max_depth':[5,10,20],'learning_rate': [0.01, 0.03,.1]}\n",
    "\n",
    "gsearch(modellgbm, model_name,search_space)\n"
   ]
  },
  {
   "cell_type": "markdown",
   "id": "fd941e8e",
   "metadata": {},
   "source": [
    "### CatBoost"
   ]
  },
  {
   "cell_type": "code",
   "execution_count": 51,
   "id": "d9958513",
   "metadata": {},
   "outputs": [
    {
     "name": "stdout",
     "output_type": "stream",
     "text": [
      "Fitting 3 folds for each of 27 candidates, totalling 81 fits\n",
      "0:\tlearn: 4367.0939500\ttotal: 418ms\tremaining: 41.4s\n",
      "1:\tlearn: 4059.5805342\ttotal: 835ms\tremaining: 40.9s\n",
      "2:\tlearn: 3792.8463556\ttotal: 1.26s\tremaining: 40.8s\n",
      "3:\tlearn: 3555.8701207\ttotal: 1.69s\tremaining: 40.5s\n",
      "4:\tlearn: 3348.1769983\ttotal: 2.08s\tremaining: 39.6s\n",
      "5:\tlearn: 3170.0967740\ttotal: 2.48s\tremaining: 38.9s\n",
      "6:\tlearn: 3013.7296025\ttotal: 2.88s\tremaining: 38.2s\n",
      "7:\tlearn: 2876.3150037\ttotal: 3.28s\tremaining: 37.7s\n",
      "8:\tlearn: 2751.4047125\ttotal: 3.71s\tremaining: 37.6s\n",
      "9:\tlearn: 2645.5436664\ttotal: 4.12s\tremaining: 37.1s\n",
      "10:\tlearn: 2536.8507658\ttotal: 4.51s\tremaining: 36.5s\n",
      "11:\tlearn: 2440.2110261\ttotal: 4.92s\tremaining: 36.1s\n",
      "12:\tlearn: 2355.9346382\ttotal: 5.3s\tremaining: 35.5s\n",
      "13:\tlearn: 2280.8833334\ttotal: 5.69s\tremaining: 35s\n",
      "14:\tlearn: 2218.7646124\ttotal: 6.13s\tremaining: 34.7s\n",
      "15:\tlearn: 2161.9249866\ttotal: 6.52s\tremaining: 34.2s\n",
      "16:\tlearn: 2113.5802249\ttotal: 6.91s\tremaining: 33.8s\n",
      "17:\tlearn: 2071.8762237\ttotal: 7.32s\tremaining: 33.3s\n",
      "18:\tlearn: 2034.9114339\ttotal: 7.71s\tremaining: 32.9s\n",
      "19:\tlearn: 1997.2346732\ttotal: 8.12s\tremaining: 32.5s\n",
      "20:\tlearn: 1964.8517387\ttotal: 8.5s\tremaining: 32s\n",
      "21:\tlearn: 1933.8837356\ttotal: 8.9s\tremaining: 31.6s\n",
      "22:\tlearn: 1909.8710817\ttotal: 9.3s\tremaining: 31.1s\n",
      "23:\tlearn: 1888.4975912\ttotal: 9.68s\tremaining: 30.6s\n",
      "24:\tlearn: 1869.9282963\ttotal: 10.1s\tremaining: 30.2s\n",
      "25:\tlearn: 1852.9563824\ttotal: 10.4s\tremaining: 29.7s\n",
      "26:\tlearn: 1835.5486340\ttotal: 10.8s\tremaining: 29.3s\n",
      "27:\tlearn: 1813.8430304\ttotal: 11.2s\tremaining: 28.9s\n",
      "28:\tlearn: 1794.1994769\ttotal: 11.6s\tremaining: 28.4s\n",
      "29:\tlearn: 1776.0372306\ttotal: 12s\tremaining: 28.1s\n",
      "30:\tlearn: 1760.4821032\ttotal: 12.4s\tremaining: 27.7s\n",
      "31:\tlearn: 1749.7630761\ttotal: 12.8s\tremaining: 27.3s\n",
      "32:\tlearn: 1738.1618895\ttotal: 13.2s\tremaining: 26.9s\n",
      "33:\tlearn: 1727.5327357\ttotal: 13.6s\tremaining: 26.5s\n",
      "34:\tlearn: 1718.2772054\ttotal: 14s\tremaining: 26s\n",
      "35:\tlearn: 1710.6008610\ttotal: 14.4s\tremaining: 25.6s\n",
      "36:\tlearn: 1703.8087026\ttotal: 14.8s\tremaining: 25.1s\n",
      "37:\tlearn: 1696.9932633\ttotal: 15.2s\tremaining: 24.8s\n",
      "38:\tlearn: 1689.4483606\ttotal: 15.5s\tremaining: 24.3s\n",
      "39:\tlearn: 1683.7350737\ttotal: 15.9s\tremaining: 23.9s\n",
      "40:\tlearn: 1678.0751574\ttotal: 16.3s\tremaining: 23.5s\n",
      "41:\tlearn: 1670.8099893\ttotal: 16.7s\tremaining: 23.1s\n",
      "42:\tlearn: 1662.0453833\ttotal: 17.1s\tremaining: 22.7s\n",
      "43:\tlearn: 1657.5550004\ttotal: 17.5s\tremaining: 22.2s\n",
      "44:\tlearn: 1651.1842097\ttotal: 17.9s\tremaining: 21.9s\n",
      "45:\tlearn: 1646.3468007\ttotal: 18.3s\tremaining: 21.4s\n",
      "46:\tlearn: 1640.1685930\ttotal: 18.6s\tremaining: 21s\n",
      "47:\tlearn: 1635.7332942\ttotal: 19.1s\tremaining: 20.6s\n",
      "48:\tlearn: 1631.2314801\ttotal: 19.5s\tremaining: 20.2s\n",
      "49:\tlearn: 1628.5152471\ttotal: 19.8s\tremaining: 19.8s\n",
      "50:\tlearn: 1623.8916707\ttotal: 20.2s\tremaining: 19.4s\n",
      "51:\tlearn: 1618.0790667\ttotal: 20.6s\tremaining: 19s\n",
      "52:\tlearn: 1615.5223746\ttotal: 21s\tremaining: 18.6s\n",
      "53:\tlearn: 1609.9775768\ttotal: 21.4s\tremaining: 18.2s\n",
      "54:\tlearn: 1605.3717332\ttotal: 21.8s\tremaining: 17.8s\n",
      "55:\tlearn: 1601.2091874\ttotal: 22.2s\tremaining: 17.4s\n",
      "56:\tlearn: 1597.2240555\ttotal: 22.6s\tremaining: 17s\n",
      "57:\tlearn: 1592.9381644\ttotal: 23s\tremaining: 16.6s\n",
      "58:\tlearn: 1589.7706012\ttotal: 23.4s\tremaining: 16.3s\n",
      "59:\tlearn: 1586.6698942\ttotal: 23.8s\tremaining: 15.9s\n",
      "60:\tlearn: 1584.7288205\ttotal: 24.2s\tremaining: 15.5s\n",
      "61:\tlearn: 1581.3452872\ttotal: 24.6s\tremaining: 15.1s\n",
      "62:\tlearn: 1575.5208863\ttotal: 25s\tremaining: 14.7s\n",
      "63:\tlearn: 1571.3199414\ttotal: 25.4s\tremaining: 14.3s\n",
      "64:\tlearn: 1568.9473849\ttotal: 25.8s\tremaining: 13.9s\n",
      "65:\tlearn: 1564.9263086\ttotal: 26.2s\tremaining: 13.5s\n",
      "66:\tlearn: 1560.8797866\ttotal: 26.6s\tremaining: 13.1s\n",
      "67:\tlearn: 1555.0932575\ttotal: 27s\tremaining: 12.7s\n",
      "68:\tlearn: 1551.3198007\ttotal: 27.4s\tremaining: 12.3s\n",
      "69:\tlearn: 1548.2657026\ttotal: 27.8s\tremaining: 11.9s\n",
      "70:\tlearn: 1544.4437682\ttotal: 28.2s\tremaining: 11.5s\n",
      "71:\tlearn: 1539.1361935\ttotal: 28.6s\tremaining: 11.1s\n",
      "72:\tlearn: 1535.6230869\ttotal: 29s\tremaining: 10.7s\n",
      "73:\tlearn: 1530.7194583\ttotal: 29.4s\tremaining: 10.3s\n",
      "74:\tlearn: 1528.6901229\ttotal: 29.8s\tremaining: 9.92s\n",
      "75:\tlearn: 1525.3755789\ttotal: 30.2s\tremaining: 9.53s\n",
      "76:\tlearn: 1519.8521278\ttotal: 30.6s\tremaining: 9.13s\n",
      "77:\tlearn: 1517.4953624\ttotal: 31s\tremaining: 8.74s\n",
      "78:\tlearn: 1514.8405976\ttotal: 31.4s\tremaining: 8.35s\n",
      "79:\tlearn: 1511.0977338\ttotal: 31.8s\tremaining: 7.94s\n",
      "80:\tlearn: 1508.2962599\ttotal: 32.2s\tremaining: 7.55s\n",
      "81:\tlearn: 1503.4678873\ttotal: 32.6s\tremaining: 7.15s\n",
      "82:\tlearn: 1497.3175010\ttotal: 32.9s\tremaining: 6.75s\n",
      "83:\tlearn: 1492.5896027\ttotal: 33.4s\tremaining: 6.36s\n",
      "84:\tlearn: 1489.4137382\ttotal: 33.8s\tremaining: 5.96s\n",
      "85:\tlearn: 1486.3605666\ttotal: 34.2s\tremaining: 5.56s\n",
      "86:\tlearn: 1484.0006935\ttotal: 34.6s\tremaining: 5.16s\n",
      "87:\tlearn: 1481.3696589\ttotal: 35s\tremaining: 4.77s\n",
      "88:\tlearn: 1478.9457754\ttotal: 35.4s\tremaining: 4.37s\n",
      "89:\tlearn: 1475.5004931\ttotal: 35.8s\tremaining: 3.97s\n",
      "90:\tlearn: 1471.5094665\ttotal: 36.2s\tremaining: 3.58s\n",
      "91:\tlearn: 1467.4504314\ttotal: 36.5s\tremaining: 3.18s\n",
      "92:\tlearn: 1461.3507576\ttotal: 37s\tremaining: 2.78s\n",
      "93:\tlearn: 1457.5845583\ttotal: 37.4s\tremaining: 2.38s\n",
      "94:\tlearn: 1455.5670448\ttotal: 37.8s\tremaining: 1.99s\n",
      "95:\tlearn: 1453.3459112\ttotal: 38.2s\tremaining: 1.59s\n",
      "96:\tlearn: 1449.3062888\ttotal: 38.5s\tremaining: 1.19s\n",
      "97:\tlearn: 1447.4542782\ttotal: 38.9s\tremaining: 795ms\n",
      "98:\tlearn: 1445.3859771\ttotal: 39.3s\tremaining: 397ms\n",
      "99:\tlearn: 1441.6609826\ttotal: 39.7s\tremaining: 0us\n",
      "Best Parameters For CatBoostRegressor : {'depth': 15, 'iterations': 100, 'learning_rate': 0.1}\n",
      "These Parameters Produced a Best RMSE Score of -1717.42 on the Training Data\n",
      "\n",
      "The RMSE Using the Tuned CatBoostRegressor on the Validation Set: 1687.95\n",
      "\n",
      "Training Time for CatBoostRegressor :\n",
      "CPU times: total: 2min 51s\n",
      "Wall time: 4min 2s\n"
     ]
    }
   ],
   "source": [
    "%%time\n",
    "model = CatBoostRegressor(random_state=123,cat_features=categorical_cols)\n",
    "model_name  = 'CatBoostRegressor'\n",
    "search_space = {'iterations':[5,10,100], 'depth':[5,10,15],'learning_rate': [0.01, 0.03,.1]}\n",
    "\n",
    "gsearch(model,model_name,search_space)"
   ]
  },
  {
   "cell_type": "markdown",
   "id": "f4fd3677",
   "metadata": {},
   "source": [
    "### Conclusion de Entrenamiento de modelos"
   ]
  },
  {
   "cell_type": "markdown",
   "id": "ee6af39d",
   "metadata": {},
   "source": [
    "Se usaron tres modelos distintos Random Forest Regressor, LightGBM y CatBoost con casi los mismos hiperparametros para que pudiera ser comparable el tiempo que tarda cada uno de los modelos.\n",
    "\n",
    "Tiempos (CPU Times en mi PC):\n",
    "RandomForestRegressor: 11min 31seg RMSE: 1705.64\n",
    "LightGbm: 5.25s RMSE: 1703.99\n",
    "CatBoost: 2min 51s RMSE: 1687.95\n",
    "\n",
    "A partir de aqui podemos darnos una idea de que modelo nos da el mejor resultado en el menor tiempo posible. Todos dan resultados relativamente cercanos entre si, sin embargo los tiempos varian considerablemente, siendo LightGbm el que yo seleccionaria en este momento, pero para poder determinar que modelo es el mejor para Rusty Bargain ahora procederé a entrenar los 3 modelos anteriores pero solo con los mejores hiperparametros que encontró GridSearhCV para cada uno.\n",
    "\n"
   ]
  },
  {
   "cell_type": "markdown",
   "id": "115ef322",
   "metadata": {},
   "source": [
    "### Analisis del Modelo"
   ]
  },
  {
   "cell_type": "markdown",
   "id": "93784e91",
   "metadata": {},
   "source": [
    "#### Random Forest Regressor"
   ]
  },
  {
   "cell_type": "code",
   "execution_count": 70,
   "id": "2aa924d3",
   "metadata": {},
   "outputs": [
    {
     "name": "stdout",
     "output_type": "stream",
     "text": [
      "El error RMSE es de: 1730.7949359739973\n",
      "Los tiempos de ejecución son:\n",
      "CPU times: total: 11min 38s\n",
      "Wall time: 43 s\n"
     ]
    }
   ],
   "source": [
    "%%time\n",
    "df_rf = df.copy()\n",
    "\n",
    "features = df_rf.drop('price',axis=1)\n",
    "target = df_rf['price']\n",
    "\n",
    "features_ohe = pd.get_dummies(features,drop_first=True)\n",
    "\n",
    "features_train, features_test, target_train, target_test = train_test_split(features_ohe, target, test_size=0.25, random_state=123)\n",
    "\n",
    "model_rf = RandomForestRegressor(max_depth=20,min_samples_leaf=5,n_estimators=100,verbose=0,random_state=123,n_jobs=-1)\n",
    "model_rf.fit(features_train,target_train)\n",
    "\n",
    "predicted_values = model_rf.predict(features_test)\n",
    "\n",
    "RMSE = mean_squared_error(target_test,predicted_values)**0.5\n",
    "    \n",
    "print(f'El error RMSE es de: {RMSE}')\n",
    "print('Los tiempos de ejecución son:')\n"
   ]
  },
  {
   "cell_type": "markdown",
   "id": "1c8632ee",
   "metadata": {},
   "source": [
    "#### LightGBM"
   ]
  },
  {
   "cell_type": "code",
   "execution_count": 71,
   "id": "9eeb26f5",
   "metadata": {},
   "outputs": [
    {
     "name": "stdout",
     "output_type": "stream",
     "text": [
      "El error RMSE es de: 1703.9942194640937\n",
      "Los tiempos de ejecución son:\n",
      "CPU times: total: 5.52 s\n",
      "Wall time: 437 ms\n"
     ]
    }
   ],
   "source": [
    "%%time\n",
    "categorical_cols=['vehicle_type','gearbox','model','fuel_type','brand']\n",
    "df_lgbm = df.copy()\n",
    "\n",
    "for col in categorical_cols:\n",
    "    df_lgbm[col] = df_lgbm[col].astype('category')\n",
    "\n",
    "features = df_lgbm.drop('price',axis=1)\n",
    "target = df_lgbm['price']\n",
    "\n",
    "features_train, features_test, target_train, target_test = train_test_split(features, target, test_size=0.25, random_state=123)\n",
    "\n",
    "modellgbm = LGBMRegressor(learning_rate=.1,max_depth=10,n_estimators=100,random_state=123,verbose=0,n_jobs=-1)\n",
    "modellgbm.fit(features_train,target_train)\n",
    "\n",
    "predicted_values = modellgbm.predict(features_test)\n",
    "\n",
    "RMSE = mean_squared_error(target_test,predicted_values)**0.5\n",
    "    \n",
    "print(f'El error RMSE es de: {RMSE}')\n",
    "print('Los tiempos de ejecución son:')"
   ]
  },
  {
   "cell_type": "markdown",
   "id": "94f6132e",
   "metadata": {},
   "source": [
    "#### CatBoost"
   ]
  },
  {
   "cell_type": "code",
   "execution_count": 72,
   "id": "8e1fbd82",
   "metadata": {},
   "outputs": [
    {
     "name": "stdout",
     "output_type": "stream",
     "text": [
      "El error RMSE es de: 1687.9511984177454\n",
      "Los tiempos de ejecución son:\n",
      "CPU times: total: 2min 41s\n",
      "Wall time: 38.3 s\n"
     ]
    }
   ],
   "source": [
    "%%time\n",
    "categorical_cols=['vehicle_type','gearbox','model','fuel_type','brand']\n",
    "df_cb = df.copy()\n",
    "\n",
    "for col in categorical_cols:\n",
    "    df_cb[col] = df_cb[col].astype('category')\n",
    "\n",
    "features = df_cb.drop('price',axis=1)\n",
    "target = df_cb['price']\n",
    "\n",
    "features_train, features_test, target_train, target_test = train_test_split(features, target, test_size=0.25, random_state=123)\n",
    "\n",
    "modelcb = CatBoostRegressor(cat_features=categorical_cols,depth=15,iterations=100,learning_rate=.1,random_state=123,verbose=0)\n",
    "modelcb.fit(features_train,target_train)\n",
    "\n",
    "predicted_values = modelcb.predict(features_test)\n",
    "\n",
    "RMSE = mean_squared_error(target_test,predicted_values)**0.5\n",
    "    \n",
    "print(f'El error RMSE es de: {RMSE}')\n",
    "print('Los tiempos de ejecución son:')"
   ]
  },
  {
   "cell_type": "markdown",
   "id": "143243eb",
   "metadata": {},
   "source": [
    "Despues de entrenar los modelos con los mejores hiperparametros encontrados puedo recomendar a Rusty Bargain que se use LightGBM por dar el un muy buen resultado en el menor tiempo posible o si se prefiere invertir un poco más de tiempo CatBoost nos puede dar un mejor resultado."
   ]
  }
 ],
 "metadata": {
  "kernelspec": {
   "display_name": "Python (tripleenv)",
   "language": "python",
   "name": "tripleenv"
  },
  "language_info": {
   "codemirror_mode": {
    "name": "ipython",
    "version": 3
   },
   "file_extension": ".py",
   "mimetype": "text/x-python",
   "name": "python",
   "nbconvert_exporter": "python",
   "pygments_lexer": "ipython3",
   "version": "3.9.22"
  }
 },
 "nbformat": 4,
 "nbformat_minor": 5
}
